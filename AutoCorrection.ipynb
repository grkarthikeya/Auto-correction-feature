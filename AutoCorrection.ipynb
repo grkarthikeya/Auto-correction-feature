{
 "cells": [
  {
   "cell_type": "code",
   "execution_count": 3,
   "id": "769167d9",
   "metadata": {},
   "outputs": [
    {
     "name": "stdout",
     "output_type": "stream",
     "text": [
      "Articles saved to final.txt\n"
     ]
    }
   ],
   "source": [
    "import wikipediaapi\n",
    "import re\n",
    "\n",
    "# Define your user agent according to Wikipedia's policy\n",
    "USER_AGENT = \"YourAppName/1.0 (your-email@example.com)\"\n",
    "\n",
    "# Initialize Wikipedia API with the custom user agent\n",
    "wiki_wiki = wikipediaapi.Wikipedia(\n",
    "    language='en',\n",
    "    extract_format=wikipediaapi.ExtractFormat.WIKI,\n",
    "    user_agent=USER_AGENT\n",
    ")\n",
    "\n",
    "# List of article titles to fetch\n",
    "article_titles = [\n",
    "    \"Natural language processing\",\n",
    "    \"Machine learning\",\n",
    "    \"Artificial intelligence\",\n",
    "    \"Data science\",\n",
    "    \"Deep learning\",\n",
    "    # Add more article titles as needed\n",
    "]\n",
    "\n",
    "def fetch_article_text(article_title):\n",
    "    page = wiki_wiki.page(article_title)\n",
    "    if page.exists():\n",
    "        return page.text\n",
    "    else:\n",
    "        print(f\"Article {article_title} does not exist.\")\n",
    "        return \"\"\n",
    "\n",
    "def save_articles_to_file(article_titles, file_path):\n",
    "    with open(file_path, 'w', encoding='utf-8') as file:\n",
    "        for title in article_titles:\n",
    "            text = fetch_article_text(title)\n",
    "            file.write(text + \"\\n\\n\")\n",
    "\n",
    "# Save the articles to final.txt\n",
    "file_path = 'final.txt'\n",
    "save_articles_to_file(article_titles, file_path)\n",
    "\n",
    "print(f\"Articles saved to {file_path}\")\n"
   ]
  },
  {
   "cell_type": "code",
   "execution_count": 6,
   "id": "22ab1a5e",
   "metadata": {},
   "outputs": [],
   "source": [
    "# importing regular expression\n",
    "import re\n",
    "\n",
    "# words\n",
    "w = []\n",
    "\n",
    "# reading text file\n",
    "with open('final.txt', 'r', encoding=\"utf8\") as f:\n",
    "\tfile_name_data = f.read()\n",
    "\tfile_name_data = file_name_data.lower()\n",
    "\tw = re.findall('\\w+', file_name_data)\n",
    "\n",
    "# vocabulary\n",
    "main_set = set(w)\n"
   ]
  },
  {
   "cell_type": "code",
   "execution_count": 7,
   "id": "615366ce",
   "metadata": {},
   "outputs": [],
   "source": [
    "# Functions to count the frequency\n",
    "# of the words in the whole text file\n",
    "\n",
    "\n",
    "def counting_words(words):\n",
    "\tword_count = {}\n",
    "\tfor word in words:\n",
    "\t\tif word in word_count:\n",
    "\t\t\tword_count[word] += 1\n",
    "\t\telse:\n",
    "\t\t\tword_count[word] = 1\n",
    "\treturn word_count\n"
   ]
  },
  {
   "cell_type": "code",
   "execution_count": 8,
   "id": "63605bef",
   "metadata": {},
   "outputs": [],
   "source": [
    "# Calculating the probability of each word\n",
    "def prob_cal(word_count_dict):\n",
    "\tprobs = {}\n",
    "\tm = sum(word_count_dict.values())\n",
    "\tfor key in word_count_dict.keys():\n",
    "\t\tprobs[key] = word_count_dict[key] / m\n",
    "\treturn probs\n"
   ]
  },
  {
   "cell_type": "code",
   "execution_count": 10,
   "id": "61b31a1c",
   "metadata": {},
   "outputs": [],
   "source": [
    "# LemmWord: extracting and adding\n",
    "# root word i.e.Lemma using pattern module\n",
    "import pattern\n",
    "from pattern.en import lemma, lexeme\n",
    "from nltk.stem import WordNetLemmatizer\n",
    "\n",
    "\n",
    "def LemmWord(word):\n",
    "\treturn list(lexeme(wd) for wd in word.split())[0]\n"
   ]
  },
  {
   "cell_type": "code",
   "execution_count": 11,
   "id": "4a73018b",
   "metadata": {},
   "outputs": [],
   "source": [
    "# Deleting letters from the words\n",
    "def DeleteLetter(word):\n",
    "\tdelete_list = []\n",
    "\tsplit_list = []\n",
    "\n",
    "\t# considering letters 0 to i then i to -1\n",
    "\t# Leaving the ith letter\n",
    "\tfor i in range(len(word)):\n",
    "\t\tsplit_list.append((word[0:i], word[i:]))\n",
    "\n",
    "\tfor a, b in split_list:\n",
    "\t\tdelete_list.append(a + b[1:])\n",
    "\treturn delete_list\n"
   ]
  },
  {
   "cell_type": "code",
   "execution_count": 12,
   "id": "616611f8",
   "metadata": {},
   "outputs": [],
   "source": [
    "# Switching two letters in a word\n",
    "def Switch_(word):\n",
    "\tsplit_list = []\n",
    "\tswitch_l = []\n",
    "\n",
    "\t#creating pair of the words(and breaking them)\n",
    "\tfor i in range(len(word)):\n",
    "\t\tsplit_list.append((word[0:i], word[i:]))\n",
    "\t\n",
    "\t#Printint the first word (i.e. a)\n",
    "\t#then replacing the first and second character of b\n",
    "\tswitch_l = [a + b[1] + b[0] + b[2:] for a, b in split_list if len(b) >= 2]\n",
    "\treturn switch_l\n"
   ]
  },
  {
   "cell_type": "code",
   "execution_count": 13,
   "id": "50635499",
   "metadata": {},
   "outputs": [],
   "source": [
    "def Replace_(word):\n",
    "\tsplit_l = []\n",
    "\treplace_list = []\n",
    "\n",
    "\t# Replacing the letter one-by-one from the list of alphs\n",
    "\tfor i in range(len(word)):\n",
    "\t\tsplit_l.append((word[0:i], word[i:]))\n",
    "\talphs = 'abcdefghijklmnopqrstuvwxyz'\n",
    "\treplace_list = [a + l + (b[1:] if len(b) > 1 else '')\n",
    "\t\t\t\t\tfor a, b in split_l if b for l in alphs]\n",
    "\treturn replace_list\n"
   ]
  },
  {
   "cell_type": "code",
   "execution_count": 14,
   "id": "858963e3",
   "metadata": {},
   "outputs": [],
   "source": [
    "def insert_(word):\n",
    "\tsplit_l = []\n",
    "\tinsert_list = []\n",
    "\n",
    "\t# Making pairs of the split words\n",
    "\tfor i in range(len(word) + 1):\n",
    "\t\tsplit_l.append((word[0:i], word[i:]))\n",
    "\n",
    "\t# Storing new words in a list\n",
    "\t# But one new character at each location\n",
    "\talphs = 'abcdefghijklmnopqrstuvwxyz'\n",
    "\tinsert_list = [a + l + b for a, b in split_l for l in alphs]\n",
    "\treturn insert_list\n"
   ]
  },
  {
   "cell_type": "code",
   "execution_count": 15,
   "id": "f5a5b6c4",
   "metadata": {},
   "outputs": [],
   "source": [
    "# Collecting all the words\n",
    "# in a set(so that no word will repeat)\n",
    "def colab_1(word, allow_switches=True):\n",
    "\tcolab_1 = set()\n",
    "\tcolab_1.update(DeleteLetter(word))\n",
    "\tif allow_switches:\n",
    "\t\tcolab_1.update(Switch_(word))\n",
    "\tcolab_1.update(Replace_(word))\n",
    "\tcolab_1.update(insert_(word))\n",
    "\treturn colab_1\n",
    "\n",
    "# collecting words using by allowing switches\n",
    "def colab_2(word, allow_switches=True):\n",
    "\tcolab_2 = set()\n",
    "\tedit_one = colab_1(word, allow_switches=allow_switches)\n",
    "\tfor w in edit_one:\n",
    "\t\tif w:\n",
    "\t\t\tedit_two = colab_1(w, allow_switches=allow_switches)\n",
    "\t\t\tcolab_2.update(edit_two)\n",
    "\treturn colab_2\n"
   ]
  },
  {
   "cell_type": "code",
   "execution_count": 16,
   "id": "2f7233d5",
   "metadata": {},
   "outputs": [],
   "source": [
    "# Only storing those values which are in the vocab\n",
    "def get_corrections(word, probs, vocab, n=2):\n",
    "\tsuggested_word = []\n",
    "\tbest_suggestion = []\n",
    "\tsuggested_word = list(\n",
    "\t\t(word in vocab and word) or colab_1(word).intersection(vocab)\n",
    "\t\tor colab_2(word).intersection(\n",
    "\t\t\tvocab))\n",
    "\n",
    "\t# finding out the words with high frequencies\n",
    "\tbest_suggestion = [[s, probs[s]] for s in list(reversed(suggested_word))]\n",
    "\treturn best_suggestion\n"
   ]
  },
  {
   "cell_type": "code",
   "execution_count": 23,
   "id": "38e0835f",
   "metadata": {},
   "outputs": [
    {
     "name": "stdout",
     "output_type": "stream",
     "text": [
      "Enter any word:questy\n",
      "quests\n",
      "quest\n"
     ]
    }
   ],
   "source": [
    "# Input\n",
    "my_word = input(\"Enter any word:\")\n",
    "\n",
    "# Counting word function\n",
    "word_count = counting_words(main_set)\n",
    "\n",
    "# Calculating probability\n",
    "probs = prob_cal(word_count)\n",
    "\n",
    "# only storing correct words\n",
    "tmp_corrections = get_corrections(my_word, probs, main_set, 2)\n",
    "for i, word_prob in enumerate(tmp_corrections):\n",
    "\tif(i < 3):\n",
    "\t\tprint(word_prob[0])\n",
    "\telse:\n",
    "\t\tbreak\n"
   ]
  },
  {
   "cell_type": "code",
   "execution_count": null,
   "id": "7120c79d",
   "metadata": {},
   "outputs": [],
   "source": []
  },
  {
   "cell_type": "code",
   "execution_count": null,
   "id": "3f9213ed",
   "metadata": {},
   "outputs": [],
   "source": []
  }
 ],
 "metadata": {
  "kernelspec": {
   "display_name": "Python 3 (ipykernel)",
   "language": "python",
   "name": "python3"
  },
  "language_info": {
   "codemirror_mode": {
    "name": "ipython",
    "version": 3
   },
   "file_extension": ".py",
   "mimetype": "text/x-python",
   "name": "python",
   "nbconvert_exporter": "python",
   "pygments_lexer": "ipython3",
   "version": "3.11.5"
  }
 },
 "nbformat": 4,
 "nbformat_minor": 5
}
